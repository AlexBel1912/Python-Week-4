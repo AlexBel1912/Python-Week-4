{
 "cells": [
  {
   "cell_type": "code",
   "execution_count": 9,
   "id": "619bd36a-d0e5-447c-8908-ea6f69f1f6b3",
   "metadata": {},
   "outputs": [
    {
     "name": "stdout",
     "output_type": "stream",
     "text": [
      "username e uguale a: studente_dapt\n",
      "sono collegato al database!\n",
      "      PassengerId  PClass                                               Name  \\\n",
      "0               1       3                            Braund, Mr. Owen Harris   \n",
      "1               2       1  Cumings, Mrs. John Bradley (Florence Briggs Th...   \n",
      "2               3       3                             Heikkinen, Miss. Laina   \n",
      "3               4       1       Futrelle, Mrs. Jacques Heath (Lily May Peel)   \n",
      "4               5       3                           Allen, Mr. William Henry   \n",
      "...           ...     ...                                                ...   \n",
      "1304         1305       3                                 Spector, Mr. Woolf   \n",
      "1305         1306       1                       Oliva y Ocana, Dona. Fermina   \n",
      "1306         1307       3                       Saether, Mr. Simon Sivertsen   \n",
      "1307         1308       3                                Ware, Mr. Frederick   \n",
      "1308         1309       3                           Peter, Master. Michael J   \n",
      "\n",
      "         Sex   Age  SibSp  Parch              Ticket    Fare Cabin Embarked  \\\n",
      "0       male  22.0      1      0           A/5 21171    7.25              S   \n",
      "1     female  38.0      1      0            PC 17599   71.28   C85        C   \n",
      "2     female  26.0      0      0    STON/O2. 3101282    7.93              S   \n",
      "3     female  35.0      1      0              113803   53.10  C123        S   \n",
      "4       male  35.0      0      0              373450    8.05              S   \n",
      "...      ...   ...    ...    ...                 ...     ...   ...      ...   \n",
      "1304    male   0.0      0      0           A.5. 3236    8.05              S   \n",
      "1305  female  39.0      0      0            PC 17758  108.90  C105        C   \n",
      "1306    male  38.5      0      0  SOTON/O.Q. 3101262    7.25              S   \n",
      "1307    male   0.0      0      0              359309    8.05              S   \n",
      "1308    male   0.0      1      1                2668   22.36              C   \n",
      "\n",
      "      Survived EmbarkDate  \n",
      "0            0  10-4-1912  \n",
      "1            1  11-4-1912  \n",
      "2            1  10-4-1912  \n",
      "3            1  10-4-1912  \n",
      "4            0  10-4-1912  \n",
      "...        ...        ...  \n",
      "1304         0  10-4-1912  \n",
      "1305         1  11-4-1912  \n",
      "1306         0  10-4-1912  \n",
      "1307         0  10-4-1912  \n",
      "1308         1  11-4-1912  \n",
      "\n",
      "[1309 rows x 13 columns]\n"
     ]
    }
   ],
   "source": [
    "#!pip install pymysql sqlalchemy python-dotenv\n",
    "import os\n",
    "import dotenv\n",
    "import sqlalchemy\n",
    "import pandas as pd\n",
    "\n",
    "#carico il file di configurazione\n",
    "#dotenv.load_dotenv(\"config_env.txt\")\n",
    "dotenv.load_dotenv(override = True, dotenv_path = \"config_titanic.txt\") #caricamento del file .env\n",
    "\n",
    "#recupero i dati al suo interno e li inserisco dentro le variabile nello script\n",
    "username = os.getenv(\"username\")\n",
    "password = os.getenv(\"password\")\n",
    "host = os.getenv(\"host\")\n",
    "dbname = os.getenv(\"dbname\")\n",
    "\n",
    "print(\"username e uguale a:\", username)\n",
    "\n",
    "#costruire la conessione (stringa)\n",
    "connection_string = f\"mysql+pymysql://{username}:{password}@{host}/{dbname}\"\n",
    "\n",
    "try:\n",
    "    #provo a creare un motore di connessione\n",
    "    db_engine = sqlalchemy.create_engine(connection_string)\n",
    "    #mi provo a collegare al database\n",
    "    print(\"sono collegato al database!\")\n",
    "    query = \"SELECT * FROM titanic\"  # stringa che contiene un'interrogazione SQL\n",
    "    df = pd.read_sql(query, db_engine) # utilizziamo pandas per leggere il result set del mio statement SQL\n",
    "    print(df)\n",
    " \n",
    "\n",
    "except Exception as e:\n",
    "    # se non ci riesco lancio un eccezione \n",
    "    print(\"Errore di connessione al db\")"
   ]
  },
  {
   "cell_type": "code",
   "execution_count": null,
   "id": "a6309af0-438d-452e-b386-811a8f9ad706",
   "metadata": {},
   "outputs": [],
   "source": []
  }
 ],
 "metadata": {
  "kernelspec": {
   "display_name": "Python [conda env:base] *",
   "language": "python",
   "name": "conda-base-py"
  },
  "language_info": {
   "codemirror_mode": {
    "name": "ipython",
    "version": 3
   },
   "file_extension": ".py",
   "mimetype": "text/x-python",
   "name": "python",
   "nbconvert_exporter": "python",
   "pygments_lexer": "ipython3",
   "version": "3.12.7"
  }
 },
 "nbformat": 4,
 "nbformat_minor": 5
}
